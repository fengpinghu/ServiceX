{
 "cells": [
  {
   "cell_type": "code",
   "execution_count": 1,
   "id": "c283f00c-c9a7-42b7-a51b-3765bf0464c7",
   "metadata": {},
   "outputs": [],
   "source": [
    "from func_adl_servicex import ServiceXSourceUpROOT"
   ]
  },
  {
   "cell_type": "code",
   "execution_count": 2,
   "id": "39c5b680-b187-4e3e-987f-8e3d3b46205a",
   "metadata": {},
   "outputs": [],
   "source": [
    "dataset_uproot = \"user.kchoi:user.kchoi.ttHML_80fb_ttbar\"\n",
    "ds = ServiceXSourceUpROOT(dataset_uproot, \"nominal\")\n",
    "data = ds.Select(\"lambda e: {'lep_pt_1': e.lep_Pt_1/1000.0}\") \\\n",
    "    .AsAwkwardArray() \\\n",
    "    .value()\n"
   ]
  },
  {
   "cell_type": "code",
   "execution_count": 3,
   "id": "b9ad7357-483a-4579-85c0-49da57b09c72",
   "metadata": {},
   "outputs": [
    {
     "data": {
      "text/plain": [
       "<Array [{lep_pt_1: 29.7}, ... {lep_pt_1: 179}] type='550283 * {\"lep_pt_1\": float32}'>"
      ]
     },
     "execution_count": 3,
     "metadata": {},
     "output_type": "execute_result"
    }
   ],
   "source": [
    "data"
   ]
  }
 ],
 "metadata": {
  "kernelspec": {
   "display_name": "Python 3",
   "language": "python",
   "name": "python3"
  },
  "language_info": {
   "codemirror_mode": {
    "name": "ipython",
    "version": 3
   },
   "file_extension": ".py",
   "mimetype": "text/x-python",
   "name": "python",
   "nbconvert_exporter": "python",
   "pygments_lexer": "ipython3",
   "version": "3.8.6"
  }
 },
 "nbformat": 4,
 "nbformat_minor": 5
}
